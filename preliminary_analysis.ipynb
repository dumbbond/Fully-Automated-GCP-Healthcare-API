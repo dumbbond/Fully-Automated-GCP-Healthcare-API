{
 "cells": [
  {
   "cell_type": "code",
   "execution_count": 1,
   "metadata": {},
   "outputs": [],
   "source": [
    "import csv\n",
    "import json\n",
    "import pandas as pd\n",
    "import glob\n"
   ]
  },
  {
   "cell_type": "code",
   "execution_count": 2,
   "metadata": {},
   "outputs": [],
   "source": [
    "# chunk = pd.read_csv(\"mimic-iii-clinical-database-1.4/INPUTEVENTS_MV.csv\", chunksize=10000000) \n",
    "# data = chunk.get_chunk(10000)\n"
   ]
  },
  {
   "cell_type": "code",
   "execution_count": 18,
   "metadata": {
    "scrolled": true
   },
   "outputs": [],
   "source": [
    "# filename = \"mimic-iii-clinical-database-1.4/CHARTEVENTS.csv\"\n",
    "# chunksize = 10 ** 6\n",
    "# for chunk in pd.read_csv(filename, chunksize=chunksize):\n",
    "#     print(len(chunk[chunk[\"SUBJECT_ID\"] == 36]))\n",
    "# #     > 0:\n",
    "# #         print(lenchunk)\n"
   ]
  },
  {
   "cell_type": "code",
   "execution_count": null,
   "metadata": {},
   "outputs": [],
   "source": []
  },
  {
   "cell_type": "code",
   "execution_count": 4,
   "metadata": {},
   "outputs": [],
   "source": [
    "def patientRecord(path, subjectId, chunksize=10 ** 6):\n",
    "#     data = None\n",
    "    for chunk in pd.read_csv(path, chunksize=chunksize):\n",
    "        data = chunk[chunk[\"SUBJECT_ID\"] == subjectId]\n",
    "        if len(data) > 0:\n",
    "            break\n",
    "    return data"
   ]
  },
  {
   "cell_type": "code",
   "execution_count": 5,
   "metadata": {},
   "outputs": [],
   "source": [
    "path = \"mimic-iii-clinical-database-1.4/CHARTEVENTS.csv\"\n",
    "chartevent_36 = patientRecord(path,36) "
   ]
  },
  {
   "cell_type": "code",
   "execution_count": 6,
   "metadata": {},
   "outputs": [],
   "source": [
    "data_36 = {}"
   ]
  },
  {
   "cell_type": "code",
   "execution_count": 7,
   "metadata": {},
   "outputs": [
    {
     "name": "stdout",
     "output_type": "stream",
     "text": [
      "mimic-iii-clinical-database-1.4/INPUTEVENTS_CV.csv\n"
     ]
    },
    {
     "name": "stderr",
     "output_type": "stream",
     "text": [
      "/home/parth/nogpu/lib/python3.6/site-packages/IPython/core/interactiveshell.py:3249: DtypeWarning: Columns (20,21) have mixed types. Specify dtype option on import or set low_memory=False.\n",
      "  if (await self.run_code(code, result,  async_=asy)):\n"
     ]
    },
    {
     "name": "stdout",
     "output_type": "stream",
     "text": [
      "mimic-iii-clinical-database-1.4/PROCEDURES_ICD.csv\n",
      "mimic-iii-clinical-database-1.4/D_CPT.csv\n",
      "D_CPT\n",
      "mimic-iii-clinical-database-1.4/LABEVENTS.csv\n",
      "mimic-iii-clinical-database-1.4/DRGCODES.csv\n",
      "mimic-iii-clinical-database-1.4/DATETIMEEVENTS.csv\n",
      "mimic-iii-clinical-database-1.4/SERVICES.csv\n",
      "mimic-iii-clinical-database-1.4/ICUSTAYS.csv\n",
      "mimic-iii-clinical-database-1.4/TRANSFERS.csv\n",
      "mimic-iii-clinical-database-1.4/D_LABITEMS.csv\n",
      "D_LABITEMS\n",
      "mimic-iii-clinical-database-1.4/D_ICD_PROCEDURES.csv\n",
      "D_ICD_PROCEDURES\n",
      "mimic-iii-clinical-database-1.4/CALLOUT.csv\n",
      "mimic-iii-clinical-database-1.4/PATIENTS.csv\n",
      "mimic-iii-clinical-database-1.4/INPUTEVENTS_MV.csv\n",
      "mimic-iii-clinical-database-1.4/ADMISSIONS.csv\n",
      "mimic-iii-clinical-database-1.4/DIAGNOSES_ICD.csv\n",
      "mimic-iii-clinical-database-1.4/MICROBIOLOGYEVENTS.csv\n",
      "mimic-iii-clinical-database-1.4/NOTEEVENTS.csv\n"
     ]
    },
    {
     "name": "stderr",
     "output_type": "stream",
     "text": [
      "/home/parth/nogpu/lib/python3.6/site-packages/IPython/core/interactiveshell.py:3249: DtypeWarning: Columns (4,5) have mixed types. Specify dtype option on import or set low_memory=False.\n",
      "  if (await self.run_code(code, result,  async_=asy)):\n"
     ]
    },
    {
     "name": "stdout",
     "output_type": "stream",
     "text": [
      "mimic-iii-clinical-database-1.4/D_ITEMS.csv\n",
      "D_ITEMS\n",
      "mimic-iii-clinical-database-1.4/CAREGIVERS.csv\n",
      "CAREGIVERS\n",
      "mimic-iii-clinical-database-1.4/PROCEDUREEVENTS_MV.csv\n",
      "mimic-iii-clinical-database-1.4/PRESCRIPTIONS.csv\n",
      "mimic-iii-clinical-database-1.4/CHARTEVENTS.csv\n",
      "mimic-iii-clinical-database-1.4/CPTEVENTS.csv\n"
     ]
    },
    {
     "name": "stderr",
     "output_type": "stream",
     "text": [
      "/home/parth/nogpu/lib/python3.6/site-packages/IPython/core/interactiveshell.py:3249: DtypeWarning: Columns (4,5,7,11) have mixed types. Specify dtype option on import or set low_memory=False.\n",
      "  if (await self.run_code(code, result,  async_=asy)):\n"
     ]
    },
    {
     "name": "stdout",
     "output_type": "stream",
     "text": [
      "mimic-iii-clinical-database-1.4/OUTPUTEVENTS.csv\n",
      "mimic-iii-clinical-database-1.4/D_ICD_DIAGNOSES.csv\n",
      "D_ICD_DIAGNOSES\n"
     ]
    }
   ],
   "source": [
    "g = glob.glob(\"mimic-iii-clinical-database-1.4/*.csv\")\n",
    "\n",
    "for path in g:\n",
    "    print(path)\n",
    "    try:\n",
    "        name = path.split(\"/\")[-1][0:-4]\n",
    "        data = patientRecord(path,36)\n",
    "        data_36[name] = data\n",
    "    except:\n",
    "        print(name)"
   ]
  },
  {
   "cell_type": "code",
   "execution_count": 11,
   "metadata": {},
   "outputs": [
    {
     "data": {
      "text/plain": [
       "dict_keys(['INPUTEVENTS_CV', 'PROCEDURES_ICD', 'LABEVENTS', 'DRGCODES', 'DATETIMEEVENTS', 'SERVICES', 'ICUSTAYS', 'TRANSFERS', 'CALLOUT', 'PATIENTS', 'INPUTEVENTS_MV', 'ADMISSIONS', 'DIAGNOSES_ICD', 'MICROBIOLOGYEVENTS', 'NOTEEVENTS', 'PROCEDUREEVENTS_MV', 'PRESCRIPTIONS', 'CHARTEVENTS', 'CPTEVENTS', 'OUTPUTEVENTS'])"
      ]
     },
     "execution_count": 11,
     "metadata": {},
     "output_type": "execute_result"
    }
   ],
   "source": [
    "data_36.keys()"
   ]
  },
  {
   "cell_type": "code",
   "execution_count": 20,
   "metadata": {},
   "outputs": [
    {
     "data": {
      "text/html": [
       "<div>\n",
       "<style scoped>\n",
       "    .dataframe tbody tr th:only-of-type {\n",
       "        vertical-align: middle;\n",
       "    }\n",
       "\n",
       "    .dataframe tbody tr th {\n",
       "        vertical-align: top;\n",
       "    }\n",
       "\n",
       "    .dataframe thead th {\n",
       "        text-align: right;\n",
       "    }\n",
       "</style>\n",
       "<table border=\"1\" class=\"dataframe\">\n",
       "  <thead>\n",
       "    <tr style=\"text-align: right;\">\n",
       "      <th></th>\n",
       "      <th>ROW_ID</th>\n",
       "      <th>SUBJECT_ID</th>\n",
       "      <th>HADM_ID</th>\n",
       "      <th>ICUSTAY_ID</th>\n",
       "      <th>CHARTTIME</th>\n",
       "      <th>ITEMID</th>\n",
       "      <th>AMOUNT</th>\n",
       "      <th>AMOUNTUOM</th>\n",
       "      <th>RATE</th>\n",
       "      <th>RATEUOM</th>\n",
       "      <th>...</th>\n",
       "      <th>ORDERID</th>\n",
       "      <th>LINKORDERID</th>\n",
       "      <th>STOPPED</th>\n",
       "      <th>NEWBOTTLE</th>\n",
       "      <th>ORIGINALAMOUNT</th>\n",
       "      <th>ORIGINALAMOUNTUOM</th>\n",
       "      <th>ORIGINALROUTE</th>\n",
       "      <th>ORIGINALRATE</th>\n",
       "      <th>ORIGINALRATEUOM</th>\n",
       "      <th>ORIGINALSITE</th>\n",
       "    </tr>\n",
       "  </thead>\n",
       "  <tbody>\n",
       "    <tr>\n",
       "      <td>146883</td>\n",
       "      <td>147298</td>\n",
       "      <td>36</td>\n",
       "      <td>182104.0</td>\n",
       "      <td>280987.0</td>\n",
       "      <td>2131-05-04 22:00:00</td>\n",
       "      <td>30056</td>\n",
       "      <td>30.0</td>\n",
       "      <td>ml</td>\n",
       "      <td>NaN</td>\n",
       "      <td>NaN</td>\n",
       "      <td>...</td>\n",
       "      <td>7442931</td>\n",
       "      <td>7442931</td>\n",
       "      <td>NaN</td>\n",
       "      <td>NaN</td>\n",
       "      <td>NaN</td>\n",
       "      <td>ml</td>\n",
       "      <td>Oral</td>\n",
       "      <td>NaN</td>\n",
       "      <td>NaN</td>\n",
       "      <td>NaN</td>\n",
       "    </tr>\n",
       "    <tr>\n",
       "      <td>146884</td>\n",
       "      <td>147299</td>\n",
       "      <td>36</td>\n",
       "      <td>182104.0</td>\n",
       "      <td>280987.0</td>\n",
       "      <td>2131-05-05 00:00:00</td>\n",
       "      <td>30056</td>\n",
       "      <td>NaN</td>\n",
       "      <td>ml</td>\n",
       "      <td>NaN</td>\n",
       "      <td>NaN</td>\n",
       "      <td>...</td>\n",
       "      <td>8624517</td>\n",
       "      <td>7442931</td>\n",
       "      <td>NaN</td>\n",
       "      <td>NaN</td>\n",
       "      <td>NaN</td>\n",
       "      <td>ml</td>\n",
       "      <td>Oral</td>\n",
       "      <td>NaN</td>\n",
       "      <td>NaN</td>\n",
       "      <td>NaN</td>\n",
       "    </tr>\n",
       "    <tr>\n",
       "      <td>146885</td>\n",
       "      <td>147300</td>\n",
       "      <td>36</td>\n",
       "      <td>182104.0</td>\n",
       "      <td>280987.0</td>\n",
       "      <td>2131-05-05 03:00:00</td>\n",
       "      <td>30056</td>\n",
       "      <td>NaN</td>\n",
       "      <td>ml</td>\n",
       "      <td>NaN</td>\n",
       "      <td>NaN</td>\n",
       "      <td>...</td>\n",
       "      <td>3517759</td>\n",
       "      <td>7442931</td>\n",
       "      <td>NaN</td>\n",
       "      <td>NaN</td>\n",
       "      <td>NaN</td>\n",
       "      <td>ml</td>\n",
       "      <td>Oral</td>\n",
       "      <td>NaN</td>\n",
       "      <td>NaN</td>\n",
       "      <td>NaN</td>\n",
       "    </tr>\n",
       "    <tr>\n",
       "      <td>146886</td>\n",
       "      <td>147301</td>\n",
       "      <td>36</td>\n",
       "      <td>182104.0</td>\n",
       "      <td>280987.0</td>\n",
       "      <td>2131-05-05 09:00:00</td>\n",
       "      <td>30056</td>\n",
       "      <td>240.0</td>\n",
       "      <td>ml</td>\n",
       "      <td>NaN</td>\n",
       "      <td>NaN</td>\n",
       "      <td>...</td>\n",
       "      <td>9832044</td>\n",
       "      <td>7442931</td>\n",
       "      <td>NaN</td>\n",
       "      <td>NaN</td>\n",
       "      <td>NaN</td>\n",
       "      <td>ml</td>\n",
       "      <td>Oral</td>\n",
       "      <td>NaN</td>\n",
       "      <td>NaN</td>\n",
       "      <td>NaN</td>\n",
       "    </tr>\n",
       "    <tr>\n",
       "      <td>146887</td>\n",
       "      <td>147302</td>\n",
       "      <td>36</td>\n",
       "      <td>182104.0</td>\n",
       "      <td>280987.0</td>\n",
       "      <td>2131-05-05 12:00:00</td>\n",
       "      <td>30056</td>\n",
       "      <td>240.0</td>\n",
       "      <td>ml</td>\n",
       "      <td>NaN</td>\n",
       "      <td>NaN</td>\n",
       "      <td>...</td>\n",
       "      <td>9894203</td>\n",
       "      <td>7442931</td>\n",
       "      <td>NaN</td>\n",
       "      <td>NaN</td>\n",
       "      <td>NaN</td>\n",
       "      <td>ml</td>\n",
       "      <td>Oral</td>\n",
       "      <td>NaN</td>\n",
       "      <td>NaN</td>\n",
       "      <td>NaN</td>\n",
       "    </tr>\n",
       "  </tbody>\n",
       "</table>\n",
       "<p>5 rows × 22 columns</p>\n",
       "</div>"
      ],
      "text/plain": [
       "        ROW_ID  SUBJECT_ID   HADM_ID  ICUSTAY_ID            CHARTTIME  ITEMID  \\\n",
       "146883  147298          36  182104.0    280987.0  2131-05-04 22:00:00   30056   \n",
       "146884  147299          36  182104.0    280987.0  2131-05-05 00:00:00   30056   \n",
       "146885  147300          36  182104.0    280987.0  2131-05-05 03:00:00   30056   \n",
       "146886  147301          36  182104.0    280987.0  2131-05-05 09:00:00   30056   \n",
       "146887  147302          36  182104.0    280987.0  2131-05-05 12:00:00   30056   \n",
       "\n",
       "        AMOUNT AMOUNTUOM  RATE  RATEUOM  ...  ORDERID  LINKORDERID  STOPPED  \\\n",
       "146883    30.0        ml   NaN      NaN  ...  7442931      7442931      NaN   \n",
       "146884     NaN        ml   NaN      NaN  ...  8624517      7442931      NaN   \n",
       "146885     NaN        ml   NaN      NaN  ...  3517759      7442931      NaN   \n",
       "146886   240.0        ml   NaN      NaN  ...  9832044      7442931      NaN   \n",
       "146887   240.0        ml   NaN      NaN  ...  9894203      7442931      NaN   \n",
       "\n",
       "        NEWBOTTLE ORIGINALAMOUNT  ORIGINALAMOUNTUOM  ORIGINALROUTE  \\\n",
       "146883        NaN            NaN                 ml           Oral   \n",
       "146884        NaN            NaN                 ml           Oral   \n",
       "146885        NaN            NaN                 ml           Oral   \n",
       "146886        NaN            NaN                 ml           Oral   \n",
       "146887        NaN            NaN                 ml           Oral   \n",
       "\n",
       "       ORIGINALRATE ORIGINALRATEUOM  ORIGINALSITE  \n",
       "146883          NaN             NaN           NaN  \n",
       "146884          NaN             NaN           NaN  \n",
       "146885          NaN             NaN           NaN  \n",
       "146886          NaN             NaN           NaN  \n",
       "146887          NaN             NaN           NaN  \n",
       "\n",
       "[5 rows x 22 columns]"
      ]
     },
     "execution_count": 20,
     "metadata": {},
     "output_type": "execute_result"
    }
   ],
   "source": [
    "data_36[\"INPUTEVENTS_CV\"].head()"
   ]
  }
 ],
 "metadata": {
  "kernelspec": {
   "display_name": "Python 3",
   "language": "python",
   "name": "python3"
  },
  "language_info": {
   "codemirror_mode": {
    "name": "ipython",
    "version": 3
   },
   "file_extension": ".py",
   "mimetype": "text/x-python",
   "name": "python",
   "nbconvert_exporter": "python",
   "pygments_lexer": "ipython3",
   "version": "3.6.8"
  }
 },
 "nbformat": 4,
 "nbformat_minor": 2
}
