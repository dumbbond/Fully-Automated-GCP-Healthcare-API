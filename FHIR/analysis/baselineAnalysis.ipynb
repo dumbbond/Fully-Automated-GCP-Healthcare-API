{
 "cells": [
  {
   "cell_type": "code",
   "execution_count": 1,
   "metadata": {},
   "outputs": [],
   "source": [
    "import json\n",
    "import numpy as np\n",
    "from tensorflow.keras.models import Sequential\n",
    "from tensorflow.keras.layers import Dense, Input \n",
    "from sklearn.model_selection import train_test_split\n",
    "from sklearn.linear_model import LinearRegression\n",
    "from sklearn.metrics import mean_squared_error, r2_score, mean_absolute_error\n",
    "import tensorflow as tf\n",
    "from utils import f1_m, precision_m, recall_m\n",
    "from sklearn.linear_model import LogisticRegression\n",
    "from sklearn.metrics import average_precision_score\n",
    "from sklearn.metrics import precision_score, recall_score, f1_score, accuracy_score\n"
   ]
  },
  {
   "cell_type": "code",
   "execution_count": 2,
   "metadata": {},
   "outputs": [],
   "source": [
    "with open(\"data/final_merge_with_len.json\") as fp:\n",
    "    model_data = json.load(fp)\n",
    "with open(\"data/patient_output.json\") as fp:\n",
    "    patient_output = json.load(fp)\n",
    "\n",
    "X = []\n",
    "Y = []\n",
    "for subject_id in model_data:\n",
    "    for hospital_id in model_data[subject_id]:\n",
    "        x = model_data[subject_id][hospital_id]\n",
    "        y = int(patient_output[subject_id][\"survived\"])\n",
    "    X.append(x)\n",
    "    Y.append(y)\n",
    "\n",
    "X = np.array(X)\n",
    "Y = np.array(Y)"
   ]
  },
  {
   "cell_type": "code",
   "execution_count": 3,
   "metadata": {},
   "outputs": [],
   "source": [
    "X_train, X_test, y_train, y_test = train_test_split(X, Y, test_size=0.33, random_state=42)"
   ]
  },
  {
   "cell_type": "code",
   "execution_count": 4,
   "metadata": {},
   "outputs": [
    {
     "name": "stderr",
     "output_type": "stream",
     "text": [
      "/home/parth/nogpu/lib/python3.6/site-packages/sklearn/linear_model/logistic.py:947: ConvergenceWarning: lbfgs failed to converge. Increase the number of iterations.\n",
      "  \"of iterations.\", ConvergenceWarning)\n"
     ]
    }
   ],
   "source": [
    "clf = LogisticRegression(random_state=0, solver='lbfgs', multi_class='multinomial').fit(X_train, y_train)"
   ]
  },
  {
   "cell_type": "code",
   "execution_count": 5,
   "metadata": {},
   "outputs": [],
   "source": [
    "Y_train_predicted = clf.predict(X_train)\n",
    "Y_test_predicted = clf.predict(X_test)"
   ]
  },
  {
   "cell_type": "code",
   "execution_count": 7,
   "metadata": {},
   "outputs": [
    {
     "name": "stdout",
     "output_type": "stream",
     "text": [
      "Accuracy train: 0.623249469536223\n",
      "Precision train: 0.5914987480624776\n",
      "Recall train: 0.6316762892650944\n",
      "F1 Score train: 0.61092766428\n"
     ]
    }
   ],
   "source": [
    "print(\"Accuracy train:\", accuracy_score(Y_train_predicted, y_train))\n",
    "print(\"Precision train:\", precision_score(Y_train_predicted, y_train))\n",
    "print(\"Recall train:\", recall_score(Y_train_predicted, y_train))\n",
    "print(\"F1 Score train:\", f1_score(Y_train_predicted, y_train))"
   ]
  },
  {
   "cell_type": "code",
   "execution_count": 8,
   "metadata": {},
   "outputs": [
    {
     "name": "stdout",
     "output_type": "stream",
     "text": [
      "Accuracy test: 0.609890786032918\n",
      "Precision test: 0.5843016069221261\n",
      "Recall test: 0.6161161161161161\n",
      "F1 Score train: 0.59978727369\n"
     ]
    }
   ],
   "source": [
    "print(\"Accuracy test:\", accuracy_score(Y_test_predicted, y_test))\n",
    "print(\"Precision test:\", precision_score(Y_test_predicted, y_test))\n",
    "print(\"Recall test:\", recall_score(Y_test_predicted, y_test))\n",
    "print(\"F1 Score train:\", f1_score(Y_test_predicted, y_test))"
   ]
  }
 ],
 "metadata": {
  "kernelspec": {
   "display_name": "Python 3",
   "language": "python",
   "name": "python3"
  },
  "language_info": {
   "codemirror_mode": {
    "name": "ipython",
    "version": 3
   },
   "file_extension": ".py",
   "mimetype": "text/x-python",
   "name": "python",
   "nbconvert_exporter": "python",
   "pygments_lexer": "ipython3",
   "version": "3.6.8"
  }
 },
 "nbformat": 4,
 "nbformat_minor": 2
}
